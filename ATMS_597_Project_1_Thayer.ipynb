{
  "nbformat": 4,
  "nbformat_minor": 0,
  "metadata": {
    "colab": {
      "name": "Copy of ATMS-597-Project-1.ipynb",
      "provenance": [],
      "include_colab_link": true
    },
    "kernelspec": {
      "name": "python3",
      "display_name": "Python 3"
    }
  },
  "cells": [
    {
      "cell_type": "markdown",
      "metadata": {
        "id": "view-in-github",
        "colab_type": "text"
      },
      "source": [
        "<a href=\"https://colab.research.google.com/github/jdthayer/ATMS-597-SP-2020/blob/Thayer_Project1/ATMS_597_Project_1_Thayer.ipynb\" target=\"_parent\"><img src=\"https://colab.research.google.com/assets/colab-badge.svg\" alt=\"Open In Colab\"/></a>"
      ]
    },
    {
      "cell_type": "markdown",
      "metadata": {
        "id": "KnNoTce5eqR-",
        "colab_type": "text"
      },
      "source": [
        "ATMS-597-SP-2020 Project 1\n",
        "Task: Create an object-oriented python module that converts temperatures interchangeably between degrees Celsius, Fahrenheit, and Kelvin.\n",
        "\n",
        "Group Members:Jeffrey D. Thayer, Carolina Bieri, Rose M. Miller\n",
        "\n"
      ]
    },
    {
      "cell_type": "code",
      "metadata": {
        "id": "kt-yPTgxeDe6",
        "colab_type": "code",
        "colab": {}
      },
      "source": [
        "#ATMS-597-Project"
      ],
      "execution_count": 0,
      "outputs": []
    },
    {
      "cell_type": "markdown",
      "metadata": {
        "id": "Qf38pzkVmB8t",
        "colab_type": "text"
      },
      "source": [
        "Should we have 2 user inputs or 3?"
      ]
    },
    {
      "cell_type": "code",
      "metadata": {
        "id": "ksZODvG6mEUJ",
        "colab_type": "code",
        "colab": {}
      },
      "source": [
        ""
      ],
      "execution_count": 0,
      "outputs": []
    }
  ]
}